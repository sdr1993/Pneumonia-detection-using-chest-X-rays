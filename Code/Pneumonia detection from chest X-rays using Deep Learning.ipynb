{
 "cells": [
  {
   "cell_type": "markdown",
   "metadata": {},
   "source": [
    "## Pneumonia detection from chest X-rays using Deep Learning ##"
   ]
  },
  {
   "cell_type": "markdown",
   "metadata": {},
   "source": [
    "The risk of pneumonia is immense for many, especially in developing nations where billions face energy poverty and rely on polluting forms of energy. The WHO estimates that over 4 million premature deaths occur annually from household air pollution-related diseases including pneumonia. Over 150 million people get infected with pneumonia on an annual basis especially children under 5 years old. In such regions, the problem can be further aggravated due to the dearth of medical resources and personnel. For example, in Africa’s 57 nations, a gap of 2.3 million doctors and nurses exists. For these populations, accurate and fast diagnosis means everything. It can guarantee timely access to treatment and save much needed time and money for those already experiencing poverty."
   ]
  },
  {
   "cell_type": "markdown",
   "metadata": {},
   "source": [
    "### The Challenge ##"
   ]
  },
  {
   "cell_type": "markdown",
   "metadata": {},
   "source": [
    "Build an algorithm to automatically identify whether a patient is suffering from pneumonia or not by looking at chest X-ray images. The algorithm had to be extremely accurate because lives of people is at stake."
   ]
  },
  {
   "cell_type": "markdown",
   "metadata": {},
   "source": [
    "### Environment and Tools ###"
   ]
  },
  {
   "cell_type": "markdown",
   "metadata": {},
   "source": [
    "- scikit-learn\n",
    "- keras\n",
    "- numpy\n",
    "- pandas\n",
    "- matplotlib"
   ]
  },
  {
   "cell_type": "markdown",
   "metadata": {},
   "source": [
    "### Data ###"
   ]
  },
  {
   "cell_type": "markdown",
   "metadata": {},
   "source": [
    " Dataset Name     : Chest X-Ray Images (Pneumonia) <br /> \n",
    " Dataset Link     : Chest X-Ray Images (Pneumonia) Dataset ([Kaggle](https://www.kaggle.com/paultimothymooney/chest-xray-pneumonia)) <br /> \n",
    " Original Paper   : Identifying Medical Diagnoses and Treatable Diseases by Image-Based Deep Learning\n",
    "                   (Daniel S. Kermany, Michael Goldbaum, Wenjia Cai, M. Anthony Lewis, Huimin Xia, Kang Zhang)\n",
    "                   https://www.cell.com/cell/fulltext/S0092-8674(18)30154-5 <br /> "
   ]
  },
  {
   "cell_type": "markdown",
   "metadata": {},
   "source": [
    "### Code: ###"
   ]
  },
  {
   "cell_type": "code",
   "execution_count": 1,
   "metadata": {},
   "outputs": [
    {
     "name": "stderr",
     "output_type": "stream",
     "text": [
      "Using TensorFlow backend.\n"
     ]
    }
   ],
   "source": [
    "# importing libraries\n",
    "import os\n",
    "from keras.models import Sequential\n",
    "from keras.layers import Convolution2D\n",
    "from keras.layers import MaxPooling2D\n",
    "from keras.layers import Flatten\n",
    "from keras.layers import Dense\n",
    "import matplotlib.pyplot as plt\n",
    "import seaborn as sns"
   ]
  },
  {
   "cell_type": "markdown",
   "metadata": {},
   "source": [
    "### Building the custom CNN model: ###\n",
    "\n",
    "Detected Pneumonia from Chest X-Ray images using Custom Deep Convololutional Neural Network. "
   ]
  },
  {
   "cell_type": "markdown",
   "metadata": {},
   "source": [
    "\n",
    "#### Model Architecture: ####\n",
    "\n",
    "> 1. The model is built on Convolution-Pooling layers set back to back.\n",
    "> 2. All the convolution layer have 32 filters with a (3*3) filter formation.\n",
    "> 3. The weights are initialized uniformly and rectified linear ('relu') activation function is used.\n",
    "> 4. Pooling layers of pool size (2*2) is used after each convolution operation.\n",
    "> 5. Post Flattening the layers, two more dense layers are added with 256 nodes with rectified linear activation function.\n",
    "> 6. Final layer with a single node and a probabilistic 'sigmoid' activation function is used.\n",
    "> 7. The model is then compiled using 'adam' optimizer with 'binary_crossentropy' as the loss funtion and 'accuracy' as the metrics. "
   ]
  },
  {
   "cell_type": "code",
   "execution_count": 2,
   "metadata": {},
   "outputs": [
    {
     "name": "stderr",
     "output_type": "stream",
     "text": [
      "C:\\Users\\Sarthak\\Anaconda3\\lib\\site-packages\\ipykernel_launcher.py:3: UserWarning: Update your `Conv2D` call to the Keras 2 API: `Conv2D(32, (3, 3), kernel_initializer=\"uniform\", activation=\"relu\", input_shape=(256, 256,...)`\n",
      "  This is separate from the ipykernel package so we can avoid doing imports until\n",
      "C:\\Users\\Sarthak\\Anaconda3\\lib\\site-packages\\ipykernel_launcher.py:5: UserWarning: Update your `Conv2D` call to the Keras 2 API: `Conv2D(32, (3, 3), kernel_initializer=\"uniform\", activation=\"relu\")`\n",
      "  \"\"\"\n"
     ]
    }
   ],
   "source": [
    "#Building the CNN\n",
    "classifier = Sequential()\n",
    "classifier.add(Conv2D(32,3,3, kernel_initializer = 'uniform', activation = 'relu',  input_shape=(256, 256, 3)))\n",
    "classifier.add(MaxPooling2D(pool_size=(2, 2)))\n",
    "classifier.add(Conv2D(32,3,3, kernel_initializer ='uniform', activation = 'relu'))\n",
    "classifier.add(MaxPooling2D(pool_size=(2, 2)))\n",
    "\n",
    "classifier.add(Flatten())\n",
    "\n",
    "classifier.add(Dense(units = 256, activation = 'relu', kernel_initializer = 'uniform'))\n",
    "classifier.add(Dense(units = 256, activation = 'relu', kernel_initializer = 'uniform'))\n",
    "classifier.add(Dense(units = 1, activation = 'sigmoid', kernel_initializer = 'uniform'))\n",
    "\n",
    "classifier.compile(optimizer = 'adam', loss = 'binary_crossentropy', metrics = ['accuracy'])"
   ]
  },
  {
   "cell_type": "markdown",
   "metadata": {},
   "source": [
    "### Image Preprocessing: ###"
   ]
  },
  {
   "cell_type": "markdown",
   "metadata": {},
   "source": [
    "Image augmentation artificially creates training images through different ways of processing or combination of multiple processing, such as random rotation, shifts, shear and flips, etc.\n",
    "\n",
    "An augmented image generator can be easily created using ImageDataGenerator API in Keras. ImageDataGenerator generates batches of image data with real-time data augmentation. The most basic codes to create and configure ImageDataGenerator and train deep neural network with augmented images are as follows."
   ]
  },
  {
   "cell_type": "code",
   "execution_count": 2,
   "metadata": {},
   "outputs": [],
   "source": [
    "##Image augmentation\n",
    "from keras.preprocessing.image import ImageDataGenerator\n",
    "\n",
    "train_datagen = ImageDataGenerator(rescale=1./255, shear_range=0.2, zoom_range=0.2, horizontal_flip=True)\n",
    "test_datagen = ImageDataGenerator(rescale=1./255)"
   ]
  },
  {
   "cell_type": "code",
   "execution_count": 3,
   "metadata": {},
   "outputs": [
    {
     "name": "stdout",
     "output_type": "stream",
     "text": [
      "Found 5216 images belonging to 2 classes.\n",
      "Found 624 images belonging to 2 classes.\n"
     ]
    }
   ],
   "source": [
    "train_set = train_datagen.flow_from_directory(\n",
    "    'C:/Users/eroysar/Downloads/Convolutional_Neural_Networks/chest_xray/train', target_size=(256, 256), batch_size=32, class_mode='binary')\n",
    "test_set = test_datagen.flow_from_directory(\n",
    "    'C:/Users/eroysar/Downloads/Convolutional_Neural_Networks/chest_xray/test', target_size=(256, 256), batch_size=32, class_mode='binary')"
   ]
  },
  {
   "cell_type": "markdown",
   "metadata": {},
   "source": [
    "Visualizing the data distribution of the two classes for both train and test datasets."
   ]
  },
  {
   "cell_type": "code",
   "execution_count": 4,
   "metadata": {},
   "outputs": [
    {
     "name": "stdout",
     "output_type": "stream",
     "text": [
      "1342 3876 234 390\n"
     ]
    }
   ],
   "source": [
    "#count files in each category\n",
    "train_normal_dir = 'C:/Users/eroysar/Downloads/Convolutional_Neural_Networks/chest_xray/train/NORMAL'\n",
    "train_pneumonia_dir = 'C:/Users/eroysar/Downloads/Convolutional_Neural_Networks/chest_xray/train/PNEUMONIA'\n",
    "test_normal_dir = 'C:/Users/eroysar/Downloads/Convolutional_Neural_Networks/chest_xray/test/NORMAL'\n",
    "test_pneumonia_dir = 'C:/Users/eroysar/Downloads/Convolutional_Neural_Networks/chest_xray/test/PNEUMONIA'\n",
    "list = os.listdir(train_normal_dir) # dir is your directory path\n",
    "train_normal = len(list)\n",
    "\n",
    "list = os.listdir(train_pneumonia_dir) # dir is your directory path\n",
    "train_pneumonia = len(list)\n",
    "\n",
    "list = os.listdir(test_normal_dir) # dir is your directory path\n",
    "test_normal = len(list)\n",
    "\n",
    "list = os.listdir(test_pneumonia_dir) # dir is your directory path\n",
    "test_pneumonia = len(list)\n",
    "print(train_normal, train_pneumonia, test_normal, test_pneumonia)"
   ]
  },
  {
   "cell_type": "code",
   "execution_count": 5,
   "metadata": {},
   "outputs": [
    {
     "data": {
      "text/plain": [
       "Text(0.5, 1.03, 'Test data')"
      ]
     },
     "execution_count": 5,
     "metadata": {},
     "output_type": "execute_result"
    },
    {
     "data": {
      "image/png": "[encoded data removed]",
      "text/plain": [
       "<Figure size 1008x432 with 2 Axes>"
      ]
     },
     "metadata": {
      "needs_background": "light"
     },
     "output_type": "display_data"
    }
   ],
   "source": [
    "plt.figure(figsize = [14, 6])\n",
    "plt.subplot(1, 2, 1)\n",
    "g=sns.barplot(x = ['Normal','Pneumonia'], y = [train_normal, train_pneumonia])\n",
    "g.set(xlabel='Categories', ylabel='No of patients')\n",
    "plt.title('Training data', y=1.03, fontsize=14, fontweight='semibold')\n",
    "\n",
    "plt.subplot(1, 2, 2)\n",
    "g=sns.barplot(x = ['Normal','Pneumonia'], y = [test_normal, test_pneumonia])\n",
    "g.set(xlabel='Categories', ylabel='No of patients')\n",
    "plt.title('Test data', y=1.03, fontsize=14, fontweight='semibold')"
   ]
  },
  {
   "cell_type": "markdown",
   "metadata": {},
   "source": [
    "#### Model Training: ####"
   ]
  },
  {
   "cell_type": "code",
   "execution_count": 5,
   "metadata": {},
   "outputs": [
    {
     "name": "stderr",
     "output_type": "stream",
     "text": [
      "C:\\Users\\Sarthak\\Anaconda3\\lib\\site-packages\\ipykernel_launcher.py:1: UserWarning: The semantics of the Keras 2 argument `steps_per_epoch` is not the same as the Keras 1 argument `samples_per_epoch`. `steps_per_epoch` is the number of batches to draw from the generator at each epoch. Basically steps_per_epoch = samples_per_epoch/batch_size. Similarly `nb_val_samples`->`validation_steps` and `val_samples`->`steps` arguments have changed. Update your method calls accordingly.\n",
      "  \"\"\"Entry point for launching an IPython kernel.\n",
      "C:\\Users\\Sarthak\\Anaconda3\\lib\\site-packages\\ipykernel_launcher.py:1: UserWarning: Update your `fit_generator` call to the Keras 2 API: `fit_generator(<keras.pre..., validation_data=<keras.pre..., steps_per_epoch=163, epochs=25, validation_steps=800)`\n",
      "  \"\"\"Entry point for launching an IPython kernel.\n"
     ]
    },
    {
     "name": "stdout",
     "output_type": "stream",
     "text": [
      "Epoch 1/25\n",
      "163/163 [==============================] - 1710s 10s/step - loss: 0.3691 - accuracy: 0.8292 - val_loss: 0.9187 - val_accuracy: 0.7949\n",
      "Epoch 2/25\n",
      "163/163 [==============================] - 1375s 8s/step - loss: 0.2309 - accuracy: 0.9087 - val_loss: 1.5654 - val_accuracy: 0.8093\n",
      "Epoch 3/25\n",
      "163/163 [==============================] - 1349s 8s/step - loss: 0.2121 - accuracy: 0.9183 - val_loss: 0.8927 - val_accuracy: 0.8077\n",
      "Epoch 4/25\n",
      "163/163 [==============================] - 1315s 8s/step - loss: 0.2021 - accuracy: 0.9193 - val_loss: 0.1179 - val_accuracy: 0.7869\n",
      "Epoch 5/25\n",
      "163/163 [==============================] - 1380s 8s/step - loss: 0.1805 - accuracy: 0.9308 - val_loss: 0.2804 - val_accuracy: 0.8926\n",
      "Epoch 6/25\n",
      "163/163 [==============================] - 1360s 8s/step - loss: 0.1759 - accuracy: 0.9327 - val_loss: 0.6627 - val_accuracy: 0.7917\n",
      "Epoch 7/25\n",
      "163/163 [==============================] - 1344s 8s/step - loss: 0.1477 - accuracy: 0.9442 - val_loss: 0.1218 - val_accuracy: 0.8846\n",
      "Epoch 8/25\n",
      "163/163 [==============================] - 1335s 8s/step - loss: 0.1450 - accuracy: 0.9438 - val_loss: 0.0803 - val_accuracy: 0.8734\n",
      "Epoch 9/25\n",
      "163/163 [==============================] - 1356s 8s/step - loss: 0.1471 - accuracy: 0.9423 - val_loss: 0.1759 - val_accuracy: 0.8622\n",
      "Epoch 10/25\n",
      "163/163 [==============================] - 1365s 8s/step - loss: 0.1551 - accuracy: 0.9423 - val_loss: 0.5037 - val_accuracy: 0.8606\n",
      "Epoch 11/25\n",
      "163/163 [==============================] - 1344s 8s/step - loss: 0.1378 - accuracy: 0.9511 - val_loss: 0.2953 - val_accuracy: 0.8974\n",
      "Epoch 12/25\n",
      "163/163 [==============================] - 1356s 8s/step - loss: 0.1331 - accuracy: 0.9525 - val_loss: 0.2001 - val_accuracy: 0.8846\n",
      "Epoch 13/25\n",
      "163/163 [==============================] - 1367s 8s/step - loss: 0.1258 - accuracy: 0.9505 - val_loss: 0.5972 - val_accuracy: 0.8862\n",
      "Epoch 14/25\n",
      "163/163 [==============================] - 1383s 8s/step - loss: 0.1263 - accuracy: 0.9526 - val_loss: 0.9030 - val_accuracy: 0.8558\n",
      "Epoch 15/25\n",
      "163/163 [==============================] - 1395s 9s/step - loss: 0.1236 - accuracy: 0.9536 - val_loss: 0.5422 - val_accuracy: 0.8958\n",
      "Epoch 16/25\n",
      "163/163 [==============================] - 1424s 9s/step - loss: 0.1031 - accuracy: 0.9630 - val_loss: 0.7061 - val_accuracy: 0.9038\n",
      "Epoch 17/25\n",
      "163/163 [==============================] - 1397s 9s/step - loss: 0.1101 - accuracy: 0.9595 - val_loss: 0.0403 - val_accuracy: 0.8910\n",
      "Epoch 18/25\n",
      "163/163 [==============================] - 1381s 8s/step - loss: 0.1038 - accuracy: 0.9613 - val_loss: 0.5279 - val_accuracy: 0.9022\n",
      "Epoch 19/25\n",
      "163/163 [==============================] - 1354s 8s/step - loss: 0.1077 - accuracy: 0.9580 - val_loss: 0.1052 - val_accuracy: 0.9087\n",
      "Epoch 20/25\n",
      "163/163 [==============================] - 1375s 8s/step - loss: 0.1065 - accuracy: 0.9595 - val_loss: 0.9823 - val_accuracy: 0.8894\n",
      "Epoch 21/25\n",
      "163/163 [==============================] - 1361s 8s/step - loss: 0.1009 - accuracy: 0.9618 - val_loss: 0.3745 - val_accuracy: 0.8702\n",
      "Epoch 22/25\n",
      "163/163 [==============================] - 1381s 8s/step - loss: 0.1080 - accuracy: 0.9582 - val_loss: 0.2047 - val_accuracy: 0.9054\n",
      "Epoch 23/25\n",
      "163/163 [==============================] - 1387s 9s/step - loss: 0.1088 - accuracy: 0.9569 - val_loss: 0.8386 - val_accuracy: 0.9151\n",
      "Epoch 24/25\n",
      "163/163 [==============================] - 1378s 8s/step - loss: 0.0924 - accuracy: 0.9666 - val_loss: 0.2571 - val_accuracy: 0.8349\n",
      "Epoch 25/25\n",
      "163/163 [==============================] - 1338s 8s/step - loss: 0.1033 - accuracy: 0.9622 - val_loss: 0.4661 - val_accuracy: 0.9103\n"
     ]
    },
    {
     "data": {
      "text/plain": [
       "<keras.callbacks.callbacks.History at 0x2ed01af3848>"
      ]
     },
     "execution_count": 5,
     "metadata": {},
     "output_type": "execute_result"
    }
   ],
   "source": [
    "classifier.fit_generator(train_set, samples_per_epoch=5216, nb_epoch=25, \n",
    "                         validation_data=test_set, nb_val_samples=800, steps_per_epoch= 5216)"
   ]
  },
  {
   "cell_type": "markdown",
   "metadata": {},
   "source": [
    "#### Model Performance ####\n",
    "\n",
    "\n",
    "After completing 25 epochs the model performance is listed below."
   ]
  },
  {
   "cell_type": "markdown",
   "metadata": {},
   "source": [
    "> Training set:\n",
    "> Accuracy: 96.22%\n",
    "> Loss: 10.33%\n",
    "\n",
    "\n",
    "> Test set:\n",
    "> Val_accuracy: 91.03%\n",
    "> Val_loss: 46.61%"
   ]
  }
 ],
 "metadata": {
  "kernelspec": {
   "display_name": "Python 3",
   "language": "python",
   "name": "python3"
  },
  "language_info": {
   "codemirror_mode": {
    "name": "ipython",
    "version": 3
   },
   "file_extension": ".py",
   "mimetype": "text/x-python",
   "name": "python",
   "nbconvert_exporter": "python",
   "pygments_lexer": "ipython3",
   "version": "3.7.4"
  }
 },
 "nbformat": 4,
 "nbformat_minor": 2
}
